{
 "cells": [
  {
   "cell_type": "code",
   "execution_count": null,
   "metadata": {},
   "outputs": [],
   "source": [
    "#Installieren aller requirements der requirements.txt\n",
    "pip install -r requirements.txt"
   ]
  },
  {
   "cell_type": "code",
   "execution_count": null,
   "metadata": {},
   "outputs": [],
   "source": [
    "#Imports aller für die GANS notwendigen Bibliotheken\n",
    "import torch\n",
    "import os\n",
    "import torchvision\n",
    "import gc\n",
    "import torchvision.datasets as dset\n",
    "import torchvision\n",
    "import torchvision.datasets as datasets\n",
    "import torch.nn as nn\n",
    "from torch.utils.data import DataLoader\n",
    "from torchvision import transforms\n",
    "from torchvision.transforms import ToTensor\n",
    "import torchvision.datasets as dset\n",
    "import torchvision.utils as vutils\n",
    "import torch.nn.functional as F\n",
    "import torch.optim as optim\n",
    "import matplotlib.pyplot as plt\n",
    "import matplotlib.animation as animation\n",
    "import pandas as pd\n",
    "import numpy as np\n",
    "from torch import optim\n",
    "from torch.autograd import Variable\n",
    "from torch import nn, optim\n",
    "from torch.autograd.variable import Variable\n",
    "from torchvision import transforms, datasets\n",
    "from torchvision.utils import save_image\n",
    "from torch import autograd\n",
    "from torch.autograd import Variable\n",
    "from torch.autograd import grad as torch_grad\n",
    "import kaggle\n",
    "import requests\n",
    "from kaggle.api.kaggle_api_extended import KaggleApi\n",
    "import shutil"
   ]
  },
  {
   "cell_type": "code",
   "execution_count": null,
   "metadata": {},
   "outputs": [],
   "source": [
    "#Kaggle APi wird heruntergeladen und authentifiziert\n",
    "api = KaggleApi()\n",
    "api.authenticate()\n",
    "#Ordner wird gelöscht, wenn dieser existiert (für erneute Durchläufe)\n",
    "if(os.path.exists('animefaces') == True):\n",
    "  shutil.rmtree('animefaces')\n",
    "#Ordner wird erstellt, wenn dieser nicht existiert\n",
    "if(os.path.exists('animefaces') == False):\n",
    "    #ungezippter Ordner wird in den erstellten Ordner herunter geladen\n",
    "    kaggle.api.dataset_download_files('soumikrakshit/anime-faces', path='animefaces', unzip=False)"
   ]
  }
 ],
 "metadata": {
  "interpreter": {
   "hash": "ac59ebe37160ed0dfa835113d9b8498d9f09ceb179beaac4002f036b9467c963"
  },
  "kernelspec": {
   "display_name": "Python 3.9.10 64-bit",
   "language": "python",
   "name": "python3"
  },
  "language_info": {
   "codemirror_mode": {
    "name": "ipython",
    "version": 3
   },
   "file_extension": ".py",
   "mimetype": "text/x-python",
   "name": "python",
   "nbconvert_exporter": "python",
   "pygments_lexer": "ipython3",
   "version": "3.9.10"
  },
  "orig_nbformat": 4
 },
 "nbformat": 4,
 "nbformat_minor": 2
}
