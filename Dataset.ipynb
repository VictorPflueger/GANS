{
 "cells": [
  {
   "cell_type": "code",
   "execution_count": 1,
   "metadata": {},
   "outputs": [
    {
     "name": "stdout",
     "output_type": "stream",
     "text": [
      "Defaulting to user installation because normal site-packages is not writeable\n",
      "Requirement already satisfied: asttokens==2.0.5 in c:\\users\\victor martin pflüge\\appdata\\roaming\\python\\python39\\site-packages (from -r requirements.txt (line 1)) (2.0.5)\n",
      "Requirement already satisfied: backcall==0.2.0 in c:\\users\\victor martin pflüge\\appdata\\roaming\\python\\python39\\site-packages (from -r requirements.txt (line 2)) (0.2.0)\n",
      "Requirement already satisfied: black==22.1.0 in c:\\users\\victor martin pflüge\\appdata\\roaming\\python\\python39\\site-packages (from -r requirements.txt (line 3)) (22.1.0)\n",
      "Requirement already satisfied: certifi==2021.10.8 in c:\\users\\victor martin pflüge\\appdata\\roaming\\python\\python39\\site-packages (from -r requirements.txt (line 4)) (2021.10.8)\n",
      "Requirement already satisfied: charset-normalizer==2.0.12 in c:\\users\\victor martin pflüge\\appdata\\roaming\\python\\python39\\site-packages (from -r requirements.txt (line 5)) (2.0.12)\n",
      "Requirement already satisfied: click==8.0.4 in c:\\users\\victor martin pflüge\\appdata\\roaming\\python\\python39\\site-packages (from -r requirements.txt (line 6)) (8.0.4)\n",
      "Requirement already satisfied: colorama==0.4.4 in c:\\users\\victor martin pflüge\\appdata\\roaming\\python\\python39\\site-packages (from -r requirements.txt (line 7)) (0.4.4)\n",
      "Requirement already satisfied: cycler==0.11.0 in c:\\users\\victor martin pflüge\\appdata\\roaming\\python\\python39\\site-packages (from -r requirements.txt (line 8)) (0.11.0)\n",
      "Requirement already satisfied: debugpy==1.5.1 in c:\\users\\victor martin pflüge\\appdata\\roaming\\python\\python39\\site-packages (from -r requirements.txt (line 9)) (1.5.1)\n",
      "Requirement already satisfied: decorator==5.1.1 in c:\\users\\victor martin pflüge\\appdata\\roaming\\python\\python39\\site-packages (from -r requirements.txt (line 10)) (5.1.1)\n",
      "Requirement already satisfied: entrypoints==0.4 in c:\\users\\victor martin pflüge\\appdata\\roaming\\python\\python39\\site-packages (from -r requirements.txt (line 11)) (0.4)\n",
      "Requirement already satisfied: executing==0.8.2 in c:\\users\\victor martin pflüge\\appdata\\roaming\\python\\python39\\site-packages (from -r requirements.txt (line 12)) (0.8.2)\n",
      "Requirement already satisfied: fonttools==4.29.1 in c:\\users\\victor martin pflüge\\appdata\\roaming\\python\\python39\\site-packages (from -r requirements.txt (line 13)) (4.29.1)\n",
      "Requirement already satisfied: idna==3.3 in c:\\users\\victor martin pflüge\\appdata\\roaming\\python\\python39\\site-packages (from -r requirements.txt (line 14)) (3.3)\n",
      "Requirement already satisfied: ipykernel==6.9.1 in c:\\users\\victor martin pflüge\\appdata\\roaming\\python\\python39\\site-packages (from -r requirements.txt (line 15)) (6.9.1)\n",
      "Requirement already satisfied: ipython==8.0.1 in c:\\users\\victor martin pflüge\\appdata\\roaming\\python\\python39\\site-packages (from -r requirements.txt (line 16)) (8.0.1)\n",
      "Requirement already satisfied: jedi==0.18.1 in c:\\users\\victor martin pflüge\\appdata\\roaming\\python\\python39\\site-packages (from -r requirements.txt (line 17)) (0.18.1)\n",
      "Requirement already satisfied: jupyter-client==7.1.2 in c:\\users\\victor martin pflüge\\appdata\\roaming\\python\\python39\\site-packages (from -r requirements.txt (line 18)) (7.1.2)\n",
      "Requirement already satisfied: jupyter-core==4.9.2 in c:\\users\\victor martin pflüge\\appdata\\roaming\\python\\python39\\site-packages (from -r requirements.txt (line 19)) (4.9.2)\n",
      "Requirement already satisfied: kaggle==1.5.12 in c:\\users\\victor martin pflüge\\appdata\\roaming\\python\\python39\\site-packages (from -r requirements.txt (line 20)) (1.5.12)\n",
      "Requirement already satisfied: kiwisolver==1.3.2 in c:\\users\\victor martin pflüge\\appdata\\roaming\\python\\python39\\site-packages (from -r requirements.txt (line 21)) (1.3.2)\n",
      "Requirement already satisfied: matplotlib==3.5.1 in c:\\users\\victor martin pflüge\\appdata\\roaming\\python\\python39\\site-packages (from -r requirements.txt (line 22)) (3.5.1)\n",
      "Requirement already satisfied: matplotlib-inline==0.1.3 in c:\\users\\victor martin pflüge\\appdata\\roaming\\python\\python39\\site-packages (from -r requirements.txt (line 23)) (0.1.3)\n",
      "Requirement already satisfied: mypy-extensions==0.4.3 in c:\\users\\victor martin pflüge\\appdata\\roaming\\python\\python39\\site-packages (from -r requirements.txt (line 24)) (0.4.3)\n",
      "Requirement already satisfied: nest-asyncio==1.5.4 in c:\\users\\victor martin pflüge\\appdata\\roaming\\python\\python39\\site-packages (from -r requirements.txt (line 25)) (1.5.4)\n",
      "Requirement already satisfied: numpy==1.22.2 in c:\\users\\victor martin pflüge\\appdata\\roaming\\python\\python39\\site-packages (from -r requirements.txt (line 26)) (1.22.2)\n",
      "Requirement already satisfied: packaging==21.3 in c:\\users\\victor martin pflüge\\appdata\\roaming\\python\\python39\\site-packages (from -r requirements.txt (line 27)) (21.3)\n",
      "Requirement already satisfied: pandas==1.4.1 in c:\\users\\victor martin pflüge\\appdata\\roaming\\python\\python39\\site-packages (from -r requirements.txt (line 28)) (1.4.1)\n",
      "Requirement already satisfied: parso==0.8.3 in c:\\users\\victor martin pflüge\\appdata\\roaming\\python\\python39\\site-packages (from -r requirements.txt (line 29)) (0.8.3)\n",
      "Requirement already satisfied: pathspec==0.9.0 in c:\\users\\victor martin pflüge\\appdata\\roaming\\python\\python39\\site-packages (from -r requirements.txt (line 30)) (0.9.0)\n",
      "Requirement already satisfied: pickleshare==0.7.5 in c:\\users\\victor martin pflüge\\appdata\\roaming\\python\\python39\\site-packages (from -r requirements.txt (line 31)) (0.7.5)\n",
      "Requirement already satisfied: Pillow==9.0.1 in c:\\users\\victor martin pflüge\\appdata\\roaming\\python\\python39\\site-packages (from -r requirements.txt (line 32)) (9.0.1)\n",
      "Requirement already satisfied: platformdirs==2.5.0 in c:\\users\\victor martin pflüge\\appdata\\roaming\\python\\python39\\site-packages (from -r requirements.txt (line 33)) (2.5.0)\n",
      "Requirement already satisfied: prompt-toolkit==3.0.28 in c:\\users\\victor martin pflüge\\appdata\\roaming\\python\\python39\\site-packages (from -r requirements.txt (line 34)) (3.0.28)\n",
      "Requirement already satisfied: pure-eval==0.2.2 in c:\\users\\victor martin pflüge\\appdata\\roaming\\python\\python39\\site-packages (from -r requirements.txt (line 35)) (0.2.2)\n",
      "Requirement already satisfied: Pygments==2.11.2 in c:\\users\\victor martin pflüge\\appdata\\roaming\\python\\python39\\site-packages (from -r requirements.txt (line 36)) (2.11.2)\n",
      "Requirement already satisfied: pyparsing==3.0.7 in c:\\users\\victor martin pflüge\\appdata\\roaming\\python\\python39\\site-packages (from -r requirements.txt (line 37)) (3.0.7)\n",
      "Requirement already satisfied: python-dateutil==2.8.2 in c:\\users\\victor martin pflüge\\appdata\\roaming\\python\\python39\\site-packages (from -r requirements.txt (line 38)) (2.8.2)\n",
      "Requirement already satisfied: python-slugify==6.0.1 in c:\\users\\victor martin pflüge\\appdata\\roaming\\python\\python39\\site-packages (from -r requirements.txt (line 39)) (6.0.1)\n",
      "Requirement already satisfied: pytz==2021.3 in c:\\users\\victor martin pflüge\\appdata\\roaming\\python\\python39\\site-packages (from -r requirements.txt (line 40)) (2021.3)\n",
      "Requirement already satisfied: pywin32==303 in c:\\users\\victor martin pflüge\\appdata\\roaming\\python\\python39\\site-packages (from -r requirements.txt (line 41)) (303)\n",
      "Requirement already satisfied: pyzmq==22.3.0 in c:\\users\\victor martin pflüge\\appdata\\roaming\\python\\python39\\site-packages (from -r requirements.txt (line 42)) (22.3.0)\n",
      "Requirement already satisfied: requests==2.27.1 in c:\\users\\victor martin pflüge\\appdata\\roaming\\python\\python39\\site-packages (from -r requirements.txt (line 43)) (2.27.1)\n",
      "Requirement already satisfied: six==1.16.0 in c:\\users\\victor martin pflüge\\appdata\\roaming\\python\\python39\\site-packages (from -r requirements.txt (line 44)) (1.16.0)\n",
      "Requirement already satisfied: stack-data==0.2.0 in c:\\users\\victor martin pflüge\\appdata\\roaming\\python\\python39\\site-packages (from -r requirements.txt (line 45)) (0.2.0)\n",
      "Requirement already satisfied: text-unidecode==1.3 in c:\\users\\victor martin pflüge\\appdata\\roaming\\python\\python39\\site-packages (from -r requirements.txt (line 46)) (1.3)\n",
      "Requirement already satisfied: tomli==2.0.1 in c:\\users\\victor martin pflüge\\appdata\\roaming\\python\\python39\\site-packages (from -r requirements.txt (line 47)) (2.0.1)\n",
      "Requirement already satisfied: torch==1.10.2+cu113 in c:\\users\\victor martin pflüge\\appdata\\roaming\\python\\python39\\site-packages (from -r requirements.txt (line 48)) (1.10.2+cu113)\n",
      "Note: you may need to restart the kernel to use updated packages.Requirement already satisfied: torchaudio==0.10.2+cu113 in c:\\users\\victor martin pflüge\\appdata\\roaming\\python\\python39\\site-packages (from -r requirements.txt (line 49)) (0.10.2+cu113)\n",
      "Requirement already satisfied: torchvision==0.11.3+cu113 in c:\\users\\victor martin pflüge\\appdata\\roaming\\python\\python39\\site-packages (from -r requirements.txt (line 50)) (0.11.3+cu113)\n",
      "Requirement already satisfied: tornado==6.1 in c:\\users\\victor martin pflüge\\appdata\\roaming\\python\\python39\\site-packages (from -r requirements.txt (line 51)) (6.1)\n",
      "Requirement already satisfied: tqdm==4.62.3 in c:\\users\\victor martin pflüge\\appdata\\roaming\\python\\python39\\site-packages (from -r requirements.txt (line 52)) (4.62.3)\n",
      "Requirement already satisfied: traitlets==5.1.1 in c:\\users\\victor martin pflüge\\appdata\\roaming\\python\\python39\\site-packages (from -r requirements.txt (line 53)) (5.1.1)\n",
      "Requirement already satisfied: typing_extensions==4.1.1 in c:\\users\\victor martin pflüge\\appdata\\roaming\\python\\python39\\site-packages (from -r requirements.txt (line 54)) (4.1.1)\n",
      "Requirement already satisfied: urllib3==1.26.8 in c:\\users\\victor martin pflüge\\appdata\\roaming\\python\\python39\\site-packages (from -r requirements.txt (line 55)) (1.26.8)\n",
      "Requirement already satisfied: wcwidth==0.2.5 in c:\\users\\victor martin pflüge\\appdata\\roaming\\python\\python39\\site-packages (from -r requirements.txt (line 56)) (0.2.5)\n",
      "\n",
      "Requirement already satisfied: setuptools>=18.5 in c:\\program files\\python39\\lib\\site-packages (from ipython==8.0.1->-r requirements.txt (line 16)) (58.1.0)\n"
     ]
    }
   ],
   "source": [
    "pip install -r requirements.txt"
   ]
  },
  {
   "cell_type": "code",
   "execution_count": 2,
   "metadata": {},
   "outputs": [],
   "source": [
    "import kaggle\n",
    "import requests\n",
    "from kaggle.api.kaggle_api_extended import KaggleApi"
   ]
  },
  {
   "cell_type": "code",
   "execution_count": 3,
   "metadata": {},
   "outputs": [],
   "source": [
    "api = KaggleApi()\n",
    "api.authenticate()\n",
    "#Ordner wird gelöscht, wenn dieser existiert\n",
    "if(os.path.exists('animefaces') == True):\n",
    "  shutil.rmtree('animefaces')\n",
    "#Ordner wird erstellt, wenn nicht existent\n",
    "if(os.path.exists('animefaces') == False):\n",
    "    kaggle.api.dataset_download_files('soumikrakshit/anime-faces', path='animefaces', unzip=False)"
   ]
  }
 ],
 "metadata": {
  "interpreter": {
   "hash": "ac59ebe37160ed0dfa835113d9b8498d9f09ceb179beaac4002f036b9467c963"
  },
  "kernelspec": {
   "display_name": "Python 3.9.10 64-bit",
   "language": "python",
   "name": "python3"
  },
  "language_info": {
   "codemirror_mode": {
    "name": "ipython",
    "version": 3
   },
   "file_extension": ".py",
   "mimetype": "text/x-python",
   "name": "python",
   "nbconvert_exporter": "python",
   "pygments_lexer": "ipython3",
   "version": "3.9.10"
  },
  "orig_nbformat": 4
 },
 "nbformat": 4,
 "nbformat_minor": 2
}
